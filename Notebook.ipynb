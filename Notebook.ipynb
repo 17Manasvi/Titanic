{
 "cells": [
  {
   "cell_type": "code",
   "execution_count": 178,
   "id": "3e43135f",
   "metadata": {},
   "outputs": [],
   "source": [
    "import numpy as np\n",
    "import pandas as pd\n",
    "import matplotlib.pyplot as plt\n",
    "import seaborn as sns"
   ]
  },
  {
   "cell_type": "code",
   "execution_count": 179,
   "id": "b1c0db6f",
   "metadata": {},
   "outputs": [],
   "source": [
    "data = pd.read_csv('train.csv')\n",
    "test = pd.read_csv('test.csv')"
   ]
  },
  {
   "cell_type": "code",
   "execution_count": 180,
   "id": "429bc0a0",
   "metadata": {},
   "outputs": [],
   "source": [
    "data.head()"
   ]
  },
  {
   "cell_type": "code",
   "execution_count": 181,
   "id": "415308ea",
   "metadata": {},
   "outputs": [],
   "source": [
    "test.head()"
   ]
  },
  {
   "cell_type": "code",
   "execution_count": 182,
   "id": "b9e4124e",
   "metadata": {},
   "outputs": [],
   "source": [
    "data.isna().sum()/len(data)"
   ]
  },
  {
   "cell_type": "code",
   "execution_count": 183,
   "id": "66233a2e",
   "metadata": {},
   "outputs": [],
   "source": [
    "for cols in data.columns:\n",
    "    if data[cols].isna().sum()/len(data)>0.5:\n",
    "        data.drop(columns= cols, inplace = True)\n",
    "        test.drop(columns = cols, inplace = True)\n",
    "        "
   ]
  },
  {
   "cell_type": "code",
   "execution_count": 184,
   "id": "5e25837a",
   "metadata": {},
   "outputs": [],
   "source": [
    "categorical_cols = []\n",
    "numerical_cols = []\n",
    "for cols in data.columns:\n",
    "    if data[cols].dtype == 'object':\n",
    "        categorical_cols.append(cols)\n",
    "    else:\n",
    "        numerical_cols.append(cols)"
   ]
  },
  {
   "cell_type": "code",
   "execution_count": 185,
   "id": "ac0e125c",
   "metadata": {},
   "outputs": [],
   "source": [
    "data[categorical_cols].isna().sum()/len(data)"
   ]
  },
  {
   "cell_type": "code",
   "execution_count": 186,
   "id": "4edf12e0",
   "metadata": {},
   "outputs": [],
   "source": [
    "from sklearn.impute import SimpleImputer\n",
    "imputer_num= SimpleImputer(strategy= \"median\")\n",
    "imputer_cat= SimpleImputer(strategy= \"most_frequent\")\n",
    "\n",
    "data[categorical_cols]= imputer_cat.fit_transform(data[categorical_cols])\n",
    "test[categorical_cols] = imputer_cat.fit_transform(test[categorical_cols])\n",
    "data[numerical_cols]= imputer_num.fit_transform(data[numerical_cols])\n",
    "data[numerical_cols] = imputer_num.fit_transform(data[numerical_cols])\n",
    "data"
   ]
  },
  {
   "cell_type": "code",
   "execution_count": 187,
   "id": "ce26f3cb",
   "metadata": {},
   "outputs": [],
   "source": [
    "test"
   ]
  },
  {
   "cell_type": "code",
   "execution_count": 188,
   "id": "8771864f",
   "metadata": {},
   "outputs": [],
   "source": [
    "data.isna().sum()/len(data)"
   ]
  },
  {
   "cell_type": "code",
   "execution_count": 189,
   "id": "e350262c",
   "metadata": {},
   "outputs": [],
   "source": [
    "data['names_data'] = data['Name'].str.split(\".\",expand =True)[0]\n",
    "test['names_data'] = test['Name'].str.split(\".\",expand =True)[0]"
   ]
  },
  {
   "cell_type": "code",
   "execution_count": 190,
   "id": "92fad94b",
   "metadata": {},
   "outputs": [],
   "source": [
    "data['attribute'] = data['names_data'].str.split(\",\", expand = True)[1]\n",
    "test['attribute'] = test['names_data'].str.split(\",\", expand = True)[1]"
   ]
  },
  {
   "cell_type": "code",
   "execution_count": 191,
   "id": "f8b12f68",
   "metadata": {},
   "outputs": [],
   "source": [
    "data['attribute'].value_counts().plot(kind = 'bar')"
   ]
  },
  {
   "cell_type": "code",
   "execution_count": 192,
   "id": "214f1cdc",
   "metadata": {},
   "outputs": [],
   "source": [
    "test['attribute'].value_counts().plot(kind = 'bar')"
   ]
  },
  {
   "cell_type": "code",
   "execution_count": 193,
   "id": "4bd930c6",
   "metadata": {},
   "outputs": [],
   "source": [
    "data['attribute'].value_counts()"
   ]
  },
  {
   "cell_type": "code",
   "execution_count": 194,
   "id": "1b201427",
   "metadata": {},
   "outputs": [],
   "source": [
    "data['attribute'] = data['attribute'].str.strip()\n",
    "test['attribute'] = test['attribute'].str.strip()"
   ]
  },
  {
   "cell_type": "code",
   "execution_count": 195,
   "id": "cb69ab75",
   "metadata": {},
   "outputs": [],
   "source": [
    "data['attribute'].value_counts()"
   ]
  },
  {
   "cell_type": "code",
   "execution_count": 196,
   "id": "934c53af",
   "metadata": {},
   "outputs": [],
   "source": [
    "l = ['Mr', 'Miss', 'Mrs', 'Master']"
   ]
  },
  {
   "cell_type": "code",
   "execution_count": 197,
   "id": "a799781b",
   "metadata": {},
   "outputs": [],
   "source": [
    "data['new_attri'] = None\n",
    "\n",
    "for i in data.index:\n",
    "    if data[\"attribute\"][i] not in l:\n",
    "        data[\"attribute\"][i] = 'other'\n",
    "        \n",
    "        \n",
    "        \n",
    "for i in test.index:\n",
    "    if test[\"attribute\"][i] not in l:\n",
    "        test[\"attribute\"][i] = 'other'\n",
    "    "
   ]
  },
  {
   "cell_type": "code",
   "execution_count": 198,
   "id": "4738c98e",
   "metadata": {},
   "outputs": [],
   "source": [
    "data.head()"
   ]
  },
  {
   "cell_type": "code",
   "execution_count": 199,
   "id": "e2011475",
   "metadata": {},
   "outputs": [],
   "source": [
    "test.head()"
   ]
  },
  {
   "cell_type": "code",
   "execution_count": 200,
   "id": "ab205896",
   "metadata": {},
   "outputs": [],
   "source": [
    "data['attribute'].unique()"
   ]
  },
  {
   "cell_type": "code",
   "execution_count": 201,
   "id": "a0948b28",
   "metadata": {},
   "outputs": [],
   "source": [
    "test['attribute'].unique()"
   ]
  },
  {
   "cell_type": "code",
   "execution_count": 202,
   "id": "b701da8f",
   "metadata": {},
   "outputs": [],
   "source": [
    "data.drop(columns= ['names_data', 'new_attri'], inplace = True)\n",
    "test.drop(columns= ['names_data'], inplace = True)"
   ]
  },
  {
   "cell_type": "code",
   "execution_count": 203,
   "id": "54fdd48a",
   "metadata": {},
   "outputs": [],
   "source": [
    "categorical_cols.append('attribute')"
   ]
  },
  {
   "cell_type": "code",
   "execution_count": 204,
   "id": "babca311",
   "metadata": {},
   "outputs": [],
   "source": [
    "data.columns"
   ]
  },
  {
   "cell_type": "code",
   "execution_count": 205,
   "id": "c3ea4ebd",
   "metadata": {},
   "outputs": [],
   "source": [
    "data.drop(columns = ['Name', 'PassengerId'], inplace = True)\n",
    "test.drop(columns = ['Name', 'PassengerId'], inplace = True)"
   ]
  },
  {
   "cell_type": "code",
   "execution_count": 206,
   "id": "f2d801f1",
   "metadata": {},
   "outputs": [],
   "source": [
    "data['family_size'] = data['SibSp'] + data['Parch']\n",
    "test['family_size'] = test['SibSp'] + test['Parch']\n",
    "data.head()"
   ]
  },
  {
   "cell_type": "code",
   "execution_count": 207,
   "id": "0960bbcb",
   "metadata": {},
   "outputs": [],
   "source": [
    "test.head()"
   ]
  },
  {
   "cell_type": "code",
   "execution_count": 208,
   "id": "39d5c1eb",
   "metadata": {},
   "outputs": [],
   "source": [
    "data.drop(columns=['Ticket'], inplace = True)\n",
    "test.drop(columns=['Ticket'], inplace = True)"
   ]
  },
  {
   "cell_type": "code",
   "execution_count": 209,
   "id": "c5193e31",
   "metadata": {},
   "outputs": [],
   "source": [
    "data[data['Age']<13].value_counts()"
   ]
  },
  {
   "cell_type": "code",
   "execution_count": 210,
   "id": "55bb97c0",
   "metadata": {},
   "outputs": [],
   "source": [
    "data['class_age'] = (4-data['Pclass'])/data['Age']\n",
    "test['class_age'] = (4-test['Pclass'])/test['Age']"
   ]
  },
  {
   "cell_type": "code",
   "execution_count": 211,
   "id": "50349c2a",
   "metadata": {},
   "outputs": [],
   "source": [
    "data.isna().sum()"
   ]
  },
  {
   "cell_type": "code",
   "execution_count": 212,
   "id": "7655eb3f",
   "metadata": {},
   "outputs": [],
   "source": [
    "print('The size of dataframe is :', len(data))"
   ]
  },
  {
   "cell_type": "code",
   "execution_count": 213,
   "id": "9c8fb269",
   "metadata": {},
   "outputs": [],
   "source": [
    "categorical_cols = []\n",
    "numerical_cols = []\n",
    "for cols in data.columns:\n",
    "    if data[cols].dtype == 'object':\n",
    "        categorical_cols.append(cols)\n",
    "    else:\n",
    "        numerical_cols.append(cols)"
   ]
  },
  {
   "cell_type": "code",
   "execution_count": 214,
   "id": "3cc0ce5d",
   "metadata": {},
   "outputs": [],
   "source": [
    "data= pd.get_dummies(data, columns= categorical_cols, dtype= int, drop_first = True)\n",
    "test= pd.get_dummies(test, columns= categorical_cols, dtype= int, drop_first = True)\n",
    "data.head()"
   ]
  },
  {
   "cell_type": "code",
   "execution_count": 215,
   "id": "5af00cc9",
   "metadata": {},
   "outputs": [],
   "source": [
    "test.head()"
   ]
  },
  {
   "cell_type": "code",
   "execution_count": 216,
   "id": "a897f525",
   "metadata": {},
   "outputs": [],
   "source": [
    "corr_matrix = data.corr()"
   ]
  },
  {
   "cell_type": "code",
   "execution_count": 217,
   "id": "0e2c8c1b",
   "metadata": {},
   "outputs": [],
   "source": [
    "plt.figure(figsize=(16,9))\n",
    "\n",
    "heatmap = sns.heatmap(corr_matrix, vmin=-1,vmax=1, annot=True, cmap='viridis')\n",
    "\n",
    "heatmap.set_title('Correlation Heatmap', fontdict={'fontsize':12}, pad=12)\n",
    "plt.show()"
   ]
  },
  {
   "cell_type": "code",
   "execution_count": 218,
   "id": "57500ef7",
   "metadata": {},
   "outputs": [],
   "source": [
    "corr_matrix['Survived']"
   ]
  },
  {
   "cell_type": "code",
   "execution_count": 219,
   "id": "5007086c",
   "metadata": {},
   "outputs": [],
   "source": [
    "df = data"
   ]
  },
  {
   "cell_type": "code",
   "execution_count": 220,
   "id": "76ba9707",
   "metadata": {},
   "outputs": [],
   "source": [
    "f, ax= plt.subplots(1, 2, figsize=(12, 4)) \n",
    "data['Survived'].value_counts().plot.pie( \n",
    "    explode=[0, 0.1], autopct='%1.1f%%', ax=ax[0], shadow=False) \n",
    "#ax[0].set_title('Survivors (1) and the dead (0)') \n",
    "#ax[0].set_ylabel('') \n",
    "#sns.countplot('Survived', data=data['Survived'], ax=ax[1]) \n",
    "#ax[1].set_ylabel('Quantity') \n",
    "#ax[1].set_title('Survivors (1) and the dead (0)') \n",
    "plt.show() \n"
   ]
  },
  {
   "cell_type": "code",
   "execution_count": 221,
   "id": "e8c81329",
   "metadata": {},
   "outputs": [],
   "source": [
    "sns.catplot(x= 'Survived', col = 'Sex_male', kind = 'count', data=data, palette= \"Dark2\")"
   ]
  },
  {
   "cell_type": "code",
   "execution_count": 222,
   "id": "686cc639",
   "metadata": {},
   "outputs": [],
   "source": [
    "data.drop(columns = 'Embarked_Q', inplace = True)\n",
    "test.drop(columns = 'Embarked_Q', inplace = True)"
   ]
  },
  {
   "cell_type": "code",
   "execution_count": 223,
   "id": "8c22a10a",
   "metadata": {},
   "outputs": [],
   "source": [
    "data['child'] = None\n",
    "test['child'] = None"
   ]
  },
  {
   "cell_type": "code",
   "execution_count": 224,
   "id": "6b8b8383",
   "metadata": {},
   "outputs": [],
   "source": [
    "for i in range(len(data)):\n",
    "    if data['Age'][i]<=13:\n",
    "        data['child'][i] = 1\n",
    "    else:\n",
    "        data['child'][i] = 0"
   ]
  },
  {
   "cell_type": "code",
   "execution_count": 225,
   "id": "6d0b0120",
   "metadata": {},
   "outputs": [],
   "source": [
    "for i in range(len(test)):\n",
    "    if test['Age'][i]<=13:\n",
    "        test['child'][i] = 1\n",
    "    else:\n",
    "        test['child'][i] = 0"
   ]
  },
  {
   "cell_type": "code",
   "execution_count": 226,
   "id": "d2689efe",
   "metadata": {},
   "outputs": [],
   "source": [
    "data.head()"
   ]
  },
  {
   "cell_type": "code",
   "execution_count": 227,
   "id": "96b3c0a6",
   "metadata": {},
   "outputs": [],
   "source": [
    "test.head()"
   ]
  },
  {
   "cell_type": "code",
   "execution_count": 228,
   "id": "5f561467",
   "metadata": {},
   "outputs": [],
   "source": [
    "sns.catplot(x= 'child', kind = 'count', data=data, palette= \"Dark2\")"
   ]
  },
  {
   "cell_type": "code",
   "execution_count": 229,
   "id": "236afadd",
   "metadata": {},
   "outputs": [],
   "source": [
    "pd.crosstab(data['Sex_male'], data['Embarked_S']).plot(kind = 'bar', stacked = True)\n",
    "plt.legend([\"Didnot Embark on S\", \"Embarked on S\"],loc=\"upper left\")\n",
    "new_labels = ['Male', 'Female']\n",
    "plt.xticks(data['Sex_male'].unique(), new_labels)\n",
    "plt.xlabel('Sex')\n",
    "plt.xticks(rotation=45)"
   ]
  },
  {
   "cell_type": "code",
   "execution_count": 230,
   "id": "965cc631",
   "metadata": {},
   "outputs": [],
   "source": [
    "bar = sns.displot(data['Age'], color = 'Orange', kde = True, bins = 25)\n",
    "plt.title('Age Distribution')\n",
    "print(\"Skewness: \", data['Age'].skew())"
   ]
  },
  {
   "cell_type": "code",
   "execution_count": 231,
   "id": "7e77cade",
   "metadata": {},
   "outputs": [],
   "source": [
    "sns.kdeplot(data = data, x= 'Age', hue = 'Sex_male', multiple = 'stack', palette= 'tab10')\n",
    "print(data[data['Sex_male']==1]['Age'].skew())\n",
    "print(data[data['Sex_male']==0]['Age'].skew())"
   ]
  },
  {
   "cell_type": "code",
   "execution_count": 232,
   "id": "1fe18029",
   "metadata": {},
   "outputs": [],
   "source": [
    "sns.stripplot(x = 'Survived', y= 'Age', hue = 'Sex_male', data = data)"
   ]
  },
  {
   "cell_type": "code",
   "execution_count": 233,
   "id": "39b0f239",
   "metadata": {},
   "outputs": [],
   "source": [
    "sns.boxenplot(x = 'Survived', y = 'Age', hue = 'Sex_male', data = data)"
   ]
  },
  {
   "cell_type": "code",
   "execution_count": 234,
   "id": "873b4ccf",
   "metadata": {},
   "outputs": [],
   "source": [
    "from scipy import stats\n",
    "\n",
    "z_scores = stats.zscore(data['Age'])\n",
    "threshold = 3\n",
    "outliers = np.where(np.abs(z_scores) > threshold)\n",
    "print(outliers)"
   ]
  },
  {
   "cell_type": "code",
   "execution_count": 235,
   "id": "9590a53f",
   "metadata": {},
   "outputs": [],
   "source": [
    "outliers = np.array(outliers)"
   ]
  },
  {
   "cell_type": "code",
   "execution_count": 236,
   "id": "ac219282",
   "metadata": {},
   "outputs": [],
   "source": [
    "for outlier_idx in outliers:\n",
    "    data.drop(outlier_idx, inplace = True)"
   ]
  },
  {
   "cell_type": "code",
   "execution_count": 237,
   "id": "fcfb0ead",
   "metadata": {},
   "outputs": [],
   "source": [
    "len(data)"
   ]
  },
  {
   "cell_type": "code",
   "execution_count": 238,
   "id": "edd511d8",
   "metadata": {},
   "outputs": [],
   "source": [
    "log_transformed_data = np.log(data['Age'])\n",
    "log_transformed_data.skew()"
   ]
  },
  {
   "cell_type": "code",
   "execution_count": 239,
   "id": "f7fb44bc",
   "metadata": {},
   "outputs": [],
   "source": [
    "sqrt_transformed_data = np.sqrt(data['Age'])\n",
    "# or\n",
    "cube_root_transformed_data = np.cbrt(data['Age'])\n",
    "print(sqrt_transformed_data.skew())\n",
    "print(cube_root_transformed_data.skew())"
   ]
  },
  {
   "cell_type": "code",
   "execution_count": 240,
   "id": "e47cbf10",
   "metadata": {},
   "outputs": [],
   "source": [
    "from scipy import stats\n",
    "\n",
    "# Assuming 'skewed_data' is your skewed dataset\n",
    "boxcox_transformed_data, _ = stats.boxcox(data['Age'])\n",
    "boxcox_transformed_data_test, _ = stats.boxcox(test['Age'])"
   ]
  },
  {
   "cell_type": "code",
   "execution_count": 241,
   "id": "e6fd30e6",
   "metadata": {},
   "outputs": [],
   "source": [
    "boxcox_transformed_data= pd.DataFrame(boxcox_transformed_data)\n",
    "boxcox_transformed_data_test= pd.DataFrame(boxcox_transformed_data_test)"
   ]
  },
  {
   "cell_type": "code",
   "execution_count": 242,
   "id": "69b262b2",
   "metadata": {},
   "outputs": [],
   "source": [
    "boxcox_transformed_data.skew()"
   ]
  },
  {
   "cell_type": "code",
   "execution_count": 243,
   "id": "a6d22623",
   "metadata": {},
   "outputs": [],
   "source": [
    "data['Age'] = boxcox_transformed_data\n",
    "test['Age'] = boxcox_transformed_data_test"
   ]
  },
  {
   "cell_type": "code",
   "execution_count": 244,
   "id": "06e02f23",
   "metadata": {},
   "outputs": [],
   "source": [
    "data.head()"
   ]
  },
  {
   "cell_type": "code",
   "execution_count": 245,
   "id": "ae318a9f",
   "metadata": {},
   "outputs": [],
   "source": [
    "bar = sns.displot(data['Age'], color = 'Orange', kde = True, bins = 25)\n",
    "plt.title('Age Distribution')\n",
    "print(\"Skewness: \", data['Age'].skew())"
   ]
  },
  {
   "cell_type": "code",
   "execution_count": 246,
   "id": "d6c6e63d",
   "metadata": {},
   "outputs": [],
   "source": [
    "bar = sns.displot(data['Fare'], color = 'Orange', kde = True, bins = 25)\n",
    "plt.title('Fare Distribution')\n",
    "print(\"Skewness: \", data['Fare'].skew())"
   ]
  },
  {
   "cell_type": "code",
   "execution_count": 247,
   "id": "8bb1c184",
   "metadata": {},
   "outputs": [],
   "source": [
    "log_transformed_fare= np.sqrt(data['Fare'])\n",
    "log_transformed_fare_test= np.sqrt(test['Fare'])\n",
    "#log_transformed_fare= pd.DataFrame(log_transformed_data)\n",
    "log_transformed_fare.skew()"
   ]
  },
  {
   "cell_type": "code",
   "execution_count": 248,
   "id": "05aabd1f",
   "metadata": {},
   "outputs": [],
   "source": [
    "#data['Fare'] = log_transformed_fare\n",
    "bar = sns.displot(log_transformed_fare, color = 'Orange', kde = True, bins = 25)\n",
    "plt.title('Fare Distribution')\n",
    "print(\"Skewness: \", log_transformed_fare.skew())"
   ]
  },
  {
   "cell_type": "code",
   "execution_count": 249,
   "id": "55360484",
   "metadata": {},
   "outputs": [],
   "source": [
    "data['Fare'] = log_transformed_fare\n",
    "test['Fare'] = log_transformed_fare_test"
   ]
  },
  {
   "cell_type": "code",
   "execution_count": 250,
   "id": "eb0afd2b",
   "metadata": {},
   "outputs": [],
   "source": [
    "#Class distribution before sampling\n",
    "from collections import Counter\n",
    "counter_ = Counter(data['Survived'])\n",
    "for class_label_, example_num_ in counter_.items():\n",
    "    percentage_ = example_num_ / len(data['Survived']) * 100\n",
    "    print('Class=%d, n=%d (%.3f%%)' % (class_label_, example_num_, percentage_))"
   ]
  },
  {
   "cell_type": "code",
   "execution_count": 251,
   "id": "cd27c58c",
   "metadata": {},
   "outputs": [],
   "source": [
    "data.isna().sum()"
   ]
  },
  {
   "cell_type": "code",
   "execution_count": 252,
   "id": "ff65570a",
   "metadata": {},
   "outputs": [],
   "source": [
    "test.isna().sum()"
   ]
  },
  {
   "cell_type": "code",
   "execution_count": 253,
   "id": "436275ca",
   "metadata": {},
   "outputs": [],
   "source": [
    "test[['Age', 'class_age']] = imputer_num.fit_transform(test[['Age', 'class_age']])"
   ]
  },
  {
   "cell_type": "code",
   "execution_count": 254,
   "id": "17368292",
   "metadata": {},
   "outputs": [],
   "source": [
    "test[['Fare']] = imputer_cat.fit_transform(test[['Fare']])"
   ]
  },
  {
   "cell_type": "code",
   "execution_count": 255,
   "id": "894a1bb7",
   "metadata": {},
   "outputs": [],
   "source": [
    "data.dropna(inplace = True)"
   ]
  },
  {
   "cell_type": "code",
   "execution_count": 256,
   "id": "d429f9a2",
   "metadata": {},
   "outputs": [],
   "source": [
    "from sklearn.model_selection import train_test_split\n",
    "X = data.drop(columns = ['Survived'])\n",
    "y = data['Survived']\n",
    "X_train, X_test, y_train, y_test = train_test_split(X, y, test_size=0.2, random_state=42)"
   ]
  },
  {
   "cell_type": "code",
   "execution_count": 257,
   "id": "d0e2cdd4",
   "metadata": {},
   "outputs": [],
   "source": [
    "from sklearn.ensemble import RandomForestClassifier\n",
    "from sklearn.linear_model import SGDClassifier\n",
    "from sklearn.svm import SVC\n",
    "from sklearn.naive_bayes import GaussianNB\n",
    "from sklearn.naive_bayes import MultinomialNB\n",
    "from sklearn.naive_bayes import BernoulliNB\n",
    "from sklearn.neighbors import KNeighborsClassifier\n",
    "from xgboost import XGBClassifier\n",
    "from sklearn.ensemble import AdaBoostClassifier\n",
    "from sklearn.ensemble import VotingClassifier\n",
    "from sklearn.ensemble import ExtraTreesClassifier            \n",
    "\n",
    "from sklearn.metrics import accuracy_score, precision_score, recall_score, f1_score"
   ]
  },
  {
   "cell_type": "code",
   "execution_count": 258,
   "id": "164cecc5",
   "metadata": {},
   "outputs": [],
   "source": [
    "rf = RandomForestClassifier()\n",
    "svc = SVC(probability=True)\n",
    "xgb = XGBClassifier()\n",
    "lr = SGDClassifier()\n",
    "knn = KNeighborsClassifier()\n",
    "adb = AdaBoostClassifier()\n",
    "etc = ExtraTreesClassifier()\n",
    "gnb = GaussianNB()\n",
    "bnb = BernoulliNB()\n",
    "mnb = MultinomialNB()"
   ]
  },
  {
   "cell_type": "code",
   "execution_count": 259,
   "id": "32a1b6fd",
   "metadata": {},
   "outputs": [],
   "source": [
    "models = {\n",
    "    'RF' : rf,\n",
    "    'SVM' : svc,\n",
    "    'XGB' : xgb,\n",
    "    'LR' : lr,\n",
    "    'KNN' : knn,\n",
    "    'ADAB' : adb,\n",
    "    'ETC' : etc, \n",
    "    'BNB' : bnb,\n",
    "    'GNB' : gnb\n",
    "}"
   ]
  },
  {
   "cell_type": "code",
   "execution_count": 260,
   "id": "572358b5",
   "metadata": {},
   "outputs": [],
   "source": [
    "scores = []\n",
    "for name, model in models.items():\n",
    "    model.fit(np.array(X_train), np.array(y_train))\n",
    "    y_pred = model.predict(np.array(X_test))\n",
    "    accuracy = accuracy_score(y_test, y_pred)\n",
    "    #precision = precision_score(y_test, y_pred)\n",
    "    scores.append([name, accuracy])\n",
    "\n",
    "print(scores)"
   ]
  },
  {
   "cell_type": "code",
   "execution_count": 261,
   "id": "bd655c07",
   "metadata": {},
   "outputs": [],
   "source": [
    "scores_df= pd.DataFrame(scores, columns=['model_name', 'accuracy'])\n",
    "scores_df.sort_values('accuracy', ascending= False)"
   ]
  },
  {
   "cell_type": "code",
   "execution_count": 262,
   "id": "8707522d",
   "metadata": {},
   "outputs": [],
   "source": [
    "X_ = np.array(X)\n",
    "y_ = np.array(y)"
   ]
  },
  {
   "cell_type": "code",
   "execution_count": 263,
   "id": "7a6ee9ed",
   "metadata": {},
   "outputs": [],
   "source": [
    "X"
   ]
  },
  {
   "cell_type": "code",
   "execution_count": 264,
   "id": "827aa782",
   "metadata": {},
   "outputs": [],
   "source": [
    "from sklearn.model_selection import GridSearchCV, RandomizedSearchCV\n",
    "from sklearn.model_selection import KFold\n",
    "from sklearn.metrics import accuracy_score, log_loss\n",
    "\n",
    "# Load your dataset and split it into features (X) and target labels (y)\n",
    "\n",
    "# Define a range of k values from 2 to 10\n",
    "k_values = range(2, 11)\n",
    "\n",
    "# Create empty lists to store training loss and accuracy for each k\n",
    "train_losses = []\n",
    "train_accuracies = []\n",
    "\n",
    "# Loop through different values of k\n",
    "for k in k_values:\n",
    "    # Create a Decision Tree classifier\n",
    "    #Find the best parameters for Decision Tree using GridSearchCV\n",
    "    #Hyperparameters' range\n",
    "    n_estimators = [int(x) for x in np.linspace(start = 1, stop = 20, num = 20)] # number of trees in the random forest\n",
    "    max_features = ['auto', 'sqrt'] # number of features in consideration at every split\n",
    "    max_depth = [int(x) for x in np.linspace(10, 120, num = 12)] # maximum number of levels allowed in each decision tree\n",
    "    min_samples_split = [2, 6, 10] # minimum sample number to split a node\n",
    "    min_samples_leaf = [1, 3, 4] # minimum sample number that can be stored in a leaf node\n",
    "    bootstrap = [True, False] # method used to sample data points\n",
    "    \n",
    "    random_grid = {'n_estimators': n_estimators,\n",
    "                   'max_features': max_features,\n",
    "                   'max_depth': max_depth,\n",
    "                   'min_samples_split': min_samples_split,\n",
    "                   'min_samples_leaf': min_samples_leaf,\n",
    "                   'bootstrap': bootstrap}\n",
    "    \n",
    "\n",
    "    #Conduct the Random Search\n",
    "    clf1 = RandomizedSearchCV(estimator = rf,\n",
    "                                   param_distributions = random_grid,\n",
    "                                   n_iter = 100, cv = 5, verbose=1, random_state=35, n_jobs = -1)\n",
    "\n",
    "    # Use KFold cross-validation\n",
    "    kf = KFold(n_splits=k)\n",
    "\n",
    "    # Initialize lists to store loss and accuracy for each fold\n",
    "    fold_losses = []\n",
    "    fold_accuracies = []\n",
    "\n",
    "    # Loop through each fold\n",
    "    for train_index, val_index in kf.split(X_):\n",
    "        X_train, X_val = X_[train_index], X_[val_index]\n",
    "        y_train, y_val = y_[train_index], y_[val_index]\n",
    "\n",
    "        # Fit the model on the training data\n",
    "        clf1.fit(X_train, y_train)\n",
    "\n",
    "        # Predict and calculate loss on the validation data\n",
    "        y_pred = clf1.predict(X_val)\n",
    "        loss = log_loss(y_val, clf1.predict_proba(X_val), labels=np.unique(y))\n",
    "        accuracy = accuracy_score(y_val, y_pred)\n",
    "\n",
    "        # Append loss and accuracy for this fold\n",
    "        fold_losses.append(loss)\n",
    "        fold_accuracies.append(accuracy)\n",
    "\n",
    "    # Calculate mean loss and accuracy across all folds\n",
    "    mean_loss = sum(fold_losses) / k\n",
    "    mean_accuracy = sum(fold_accuracies) / k\n",
    "\n",
    "    # Append mean loss and accuracy for this k value\n",
    "    train_losses.append(mean_loss)\n",
    "    train_accuracies.append(mean_accuracy)\n",
    "\n",
    "print(\"train accuracies: {}\".format(np.mean(train_accuracies)))\n",
    "# Plot loss versus k\n",
    "plt.figure(figsize=(12, 5))\n",
    "plt.subplot(1, 2, 1)\n",
    "plt.plot(k_values, train_losses, marker='o')\n",
    "plt.title('Training Loss vs. k')\n",
    "plt.xlabel('k (Number of Folds)')\n",
    "plt.ylabel('Mean Log Loss')\n",
    "\n",
    "# Plot accuracy versus k\n",
    "plt.subplot(1, 2, 2)\n",
    "plt.plot(k_values, train_accuracies, marker='o')\n",
    "plt.title('Training Accuracy vs. k')\n",
    "plt.xlabel('k (Number of Folds)')\n",
    "plt.ylabel('Mean Accuracy')\n",
    "\n",
    "plt.tight_layout()\n",
    "plt.show()\n"
   ]
  },
  {
   "cell_type": "code",
   "execution_count": null,
   "id": "e24ff16b",
   "metadata": {},
   "outputs": [],
   "source": [
    "\n",
    "\n",
    "# Load your dataset and split it into features (X) and target labels (y)\n",
    "\n",
    "# Define a range of k values from 2 to 10\n",
    "k_values = range(2, 11)\n",
    "\n",
    "# Create empty lists to store training loss and accuracy for each k\n",
    "train_losses = []\n",
    "train_accuracies = []\n",
    "\n",
    "# Loop through different values of k\n",
    "for k in k_values:\n",
    "    # Create a Decision Tree classifier\n",
    "    #Find the best parameters for Decision Tree using GridSearchCV\n",
    "    #Hyperparameters' range\n",
    "    param_grid = {'n_estimators' : [100, 200, 500],\n",
    "    'min_samples_leaf': [5,10,20],\n",
    "    'max_features': [2,3,4]\n",
    "                 }\n",
    "\n",
    "    #Conduct the Grid Search\n",
    "    clf = RandomizedSearchCV(estimator = etc,\n",
    "                                   param_distributions = param_grid,\n",
    "                                 cv = 10, verbose=1)\n",
    "    # Use KFold cross-validation\n",
    "    kf = KFold(n_splits=k)\n",
    "\n",
    "    # Initialize lists to store loss and accuracy for each fold\n",
    "    fold_losses = []\n",
    "    fold_accuracies = []\n",
    "\n",
    "    # Loop through each fold\n",
    "    for train_index, val_index in kf.split(X):\n",
    "        X_train, X_val = X_[train_index], X_[val_index]\n",
    "        y_train, y_val = y_[train_index], y_[val_index]\n",
    "\n",
    "        # Fit the model on the training data\n",
    "        clf.fit(X_train, y_train)\n",
    "\n",
    "        # Predict and calculate loss on the validation data\n",
    "        y_pred = clf.predict(X_val)\n",
    "        loss = log_loss(y_val, clf.predict_proba(X_val), labels=np.unique(y))\n",
    "        accuracy = accuracy_score(y_val, y_pred)\n",
    "\n",
    "        # Append loss and accuracy for this fold\n",
    "        fold_losses.append(loss)\n",
    "        fold_accuracies.append(accuracy)\n",
    "\n",
    "    # Calculate mean loss and accuracy across all folds\n",
    "    mean_loss = sum(fold_losses) / k\n",
    "    mean_accuracy = sum(fold_accuracies) / k\n",
    "\n",
    "    # Append mean loss and accuracy for this k value\n",
    "    train_losses.append(mean_loss)\n",
    "    train_accuracies.append(mean_accuracy)\n",
    "\n",
    "print(\"train accuracies: {}\".format(np.mean(train_accuracies)))\n",
    "# Plot loss versus k\n",
    "plt.figure(figsize=(12, 5))\n",
    "plt.subplot(1, 2, 1)\n",
    "plt.plot(k_values, train_losses, marker='o')\n",
    "plt.title('Training Loss vs. k')\n",
    "plt.xlabel('k (Number of Folds)')\n",
    "plt.ylabel('Mean Log Loss')\n",
    "\n",
    "# Plot accuracy versus k\n",
    "plt.subplot(1, 2, 2)\n",
    "plt.plot(k_values, train_accuracies, marker='o')\n",
    "plt.title('Training Accuracy vs. k')\n",
    "plt.xlabel('k (Number of Folds)')\n",
    "plt.ylabel('Mean Accuracy')\n",
    "\n",
    "plt.tight_layout()\n",
    "plt.show()\n"
   ]
  },
  {
   "cell_type": "code",
   "execution_count": null,
   "id": "6b2544a8",
   "metadata": {},
   "outputs": [],
   "source": [
    "# best parameters for Extra Trees Classifier\n",
    "clf.best_params_"
   ]
  },
  {
   "cell_type": "code",
   "execution_count": null,
   "id": "439342c3",
   "metadata": {},
   "outputs": [],
   "source": [
    "clf1.best_params_"
   ]
  },
  {
   "cell_type": "code",
   "execution_count": null,
   "id": "7fc9df92",
   "metadata": {},
   "outputs": [],
   "source": [
    "from sklearn.model_selection import RandomizedSearchCV\n",
    "from sklearn.model_selection import KFold\n",
    "from sklearn.metrics import accuracy_score, log_loss\n",
    "\n",
    "\n",
    "# Load your dataset and split it into features (X) and target labels (y)\n",
    "\n",
    "# Define a range of k values from 2 to 10\n",
    "k_values = range(2, 11)\n",
    "\n",
    "# Create empty lists to store training loss and accuracy for each k\n",
    "train_losses = []\n",
    "train_accuracies = []\n",
    "\n",
    "# Loop through different values of k\n",
    "for k in k_values:\n",
    "    # Create a Decision Tree classifier\n",
    "    #Find the best parameters for Decision Tree using GridSearchCV\n",
    "    #Hyperparameters' range\n",
    "    n_estimators = [int(x) for x in np.linspace(start = 1, stop = 20, num = 20)] # number of trees in the random forest\n",
    "    max_features = ['auto', 'sqrt'] # number of features in consideration at every split\n",
    "    max_depth = [int(x) for x in np.linspace(10, 120, num = 12)] # maximum number of levels allowed in each decision tree\n",
    "    min_samples_split = [2, 6, 10] # minimum sample number to split a node\n",
    "    min_samples_leaf = [1, 3, 4] # minimum sample number that can be stored in a leaf node\n",
    "    bootstrap = [True, False] # method used to sample data points\n",
    "    \n",
    "    random_grid = {\n",
    "    'n_estimators': [50, 100, 200, 500],\n",
    "    'learning_rate': [0.01, 0.1, 1.0],\n",
    "    'algorithm': ['SAMME', 'SAMME.R']\n",
    "}\n",
    "    \n",
    "\n",
    "    #Conduct the Random Search\n",
    "    clf4 = RandomizedSearchCV(estimator = adb,\n",
    "                                   param_distributions = random_grid,\n",
    "                                   n_iter = 100, cv = 5, verbose=1, random_state=35, n_jobs = -1)\n",
    "\n",
    "    # Use KFold cross-validation\n",
    "    kf = KFold(n_splits=k)\n",
    "\n",
    "    # Initialize lists to store loss and accuracy for each fold\n",
    "    fold_losses = []\n",
    "    fold_accuracies = []\n",
    "\n",
    "    # Loop through each fold\n",
    "    for train_index, val_index in kf.split(X):\n",
    "        X_train, X_val = X_[train_index], X_[val_index]\n",
    "        y_train, y_val = y_[train_index], y_[val_index]\n",
    "\n",
    "        # Fit the model on the training data\n",
    "        clf4.fit(X_train, y_train)\n",
    "\n",
    "        # Predict and calculate loss on the validation data\n",
    "        y_pred = clf4.predict(X_val)\n",
    "        loss = log_loss(y_val, clf4.predict_proba(X_val), labels=np.unique(y))\n",
    "        accuracy = accuracy_score(y_val, y_pred)\n",
    "\n",
    "        # Append loss and accuracy for this fold\n",
    "        fold_losses.append(loss)\n",
    "        fold_accuracies.append(accuracy)\n",
    "\n",
    "    # Calculate mean loss and accuracy across all folds\n",
    "    mean_loss = sum(fold_losses) / k\n",
    "    mean_accuracy = sum(fold_accuracies) / k\n",
    "\n",
    "    # Append mean loss and accuracy for this k value\n",
    "    train_losses.append(mean_loss)\n",
    "    train_accuracies.append(mean_accuracy)\n",
    "\n",
    "print(\"train accuracies: {}\".format(np.mean(train_accuracies)))\n",
    "# Plot loss versus k\n",
    "plt.figure(figsize=(12, 5))\n",
    "plt.subplot(1, 2, 1)\n",
    "plt.plot(k_values, train_losses, marker='o')\n",
    "plt.title('Training Loss vs. k')\n",
    "plt.xlabel('k (Number of Folds)')\n",
    "plt.ylabel('Mean Log Loss')\n",
    "\n",
    "# Plot accuracy versus k\n",
    "plt.subplot(1, 2, 2)\n",
    "plt.plot(k_values, train_accuracies, marker='o')\n",
    "plt.title('Training Accuracy vs. k')\n",
    "plt.xlabel('k (Number of Folds)')\n",
    "plt.ylabel('Mean Accuracy')\n",
    "\n",
    "plt.tight_layout()\n",
    "plt.show()\n"
   ]
  },
  {
   "cell_type": "code",
   "execution_count": null,
   "id": "08891173",
   "metadata": {},
   "outputs": [],
   "source": [
    "clf4.best_params_"
   ]
  },
  {
   "cell_type": "code",
   "execution_count": null,
   "id": "485ffeae",
   "metadata": {},
   "outputs": [],
   "source": [
    "from sklearn.ensemble import StackingClassifier\n",
    "from sklearn.linear_model import LogisticRegression"
   ]
  },
  {
   "cell_type": "code",
   "execution_count": null,
   "id": "51ceaf71",
   "metadata": {},
   "outputs": [],
   "source": [
    "base_estimators = [\n",
    "    ('rf', RandomForestClassifier(**clf1.best_params_)),\n",
    "    ('etc', ExtraTreesClassifier(**clf.best_params_)),\n",
    "    ('adb', AdaBoostClassifier(**clf4.best_params_))\n",
    "]"
   ]
  },
  {
   "cell_type": "code",
   "execution_count": null,
   "id": "de272586",
   "metadata": {},
   "outputs": [],
   "source": [
    "meta_estimator = RandomForestClassifier()"
   ]
  },
  {
   "cell_type": "code",
   "execution_count": null,
   "id": "df09f088",
   "metadata": {},
   "outputs": [],
   "source": [
    "stacking_ensemble = StackingClassifier(estimators=base_estimators, final_estimator=meta_estimator)"
   ]
  },
  {
   "cell_type": "code",
   "execution_count": null,
   "id": "f9e14545",
   "metadata": {},
   "outputs": [],
   "source": [
    "stacking_ensemble.fit(X_train, y_train)\n",
    "y_pred = stacking_ensemble.predict(X_test)\n",
    "accuracy = accuracy_score(y_test, y_pred)\n",
    "print(\"Stacking Ensemble Accuracy:\", accuracy)"
   ]
  },
  {
   "cell_type": "code",
   "execution_count": null,
   "id": "f64e48f0",
   "metadata": {},
   "outputs": [],
   "source": [
    "model = RandomForestClassifier(**clf1.best_params_)"
   ]
  },
  {
   "cell_type": "code",
   "execution_count": null,
   "id": "f41b3037",
   "metadata": {},
   "outputs": [],
   "source": [
    "model.fit(X_, y_)"
   ]
  },
  {
   "cell_type": "code",
   "execution_count": null,
   "id": "3ab86829",
   "metadata": {},
   "outputs": [],
   "source": [
    "y_pred_test = stacking_ensemble.predict(test)"
   ]
  },
  {
   "cell_type": "code",
   "execution_count": null,
   "id": "ddbd6678",
   "metadata": {},
   "outputs": [],
   "source": [
    "y_pred_test.astype(int)"
   ]
  },
  {
   "cell_type": "code",
   "execution_count": null,
   "id": "2907b1a4",
   "metadata": {},
   "outputs": [],
   "source": [
    "(print(len(y_pred_test)))"
   ]
  },
  {
   "cell_type": "code",
   "execution_count": null,
   "id": "5afde4a6",
   "metadata": {},
   "outputs": [],
   "source": [
    "print(len(test))"
   ]
  },
  {
   "cell_type": "code",
   "execution_count": null,
   "id": "a9081699",
   "metadata": {},
   "outputs": [],
   "source": [
    "final_predictions = pd.DataFrame(y_pred_test)"
   ]
  },
  {
   "cell_type": "code",
   "execution_count": null,
   "id": "101f7ed3",
   "metadata": {},
   "outputs": [],
   "source": [
    "test.index = test.index-892"
   ]
  },
  {
   "cell_type": "code",
   "execution_count": null,
   "id": "00318785",
   "metadata": {},
   "outputs": [],
   "source": [
    "test.index"
   ]
  },
  {
   "cell_type": "code",
   "execution_count": null,
   "id": "b2dd8573",
   "metadata": {},
   "outputs": [],
   "source": [
    "test.tail()"
   ]
  },
  {
   "cell_type": "code",
   "execution_count": null,
   "id": "d8af9a25",
   "metadata": {},
   "outputs": [],
   "source": [
    "final_predictions.set_index(test.index, inplace = True)"
   ]
  },
  {
   "cell_type": "code",
   "execution_count": null,
   "id": "cfa993df",
   "metadata": {},
   "outputs": [],
   "source": [
    "final_predictions.head()"
   ]
  },
  {
   "cell_type": "code",
   "execution_count": null,
   "id": "c3345f81",
   "metadata": {},
   "outputs": [],
   "source": [
    "final_predictions = final_predictions.astype(int)"
   ]
  },
  {
   "cell_type": "code",
   "execution_count": null,
   "id": "ab1c6e77",
   "metadata": {},
   "outputs": [],
   "source": [
    "final_predictions.head()"
   ]
  },
  {
   "cell_type": "code",
   "execution_count": null,
   "id": "75998995",
   "metadata": {},
   "outputs": [],
   "source": [
    "final_predictions = final_predictions.rename_axis(\"PassengerId\")\n",
    "final_predictions.head()"
   ]
  },
  {
   "cell_type": "code",
   "execution_count": null,
   "id": "4decc142",
   "metadata": {},
   "outputs": [],
   "source": [
    "final_predictions.columns = ['Survived']"
   ]
  },
  {
   "cell_type": "code",
   "execution_count": null,
   "id": "6de36b50",
   "metadata": {},
   "outputs": [],
   "source": [
    "final_predictions.head()"
   ]
  },
  {
   "cell_type": "code",
   "execution_count": null,
   "id": "0de9a19b",
   "metadata": {},
   "outputs": [],
   "source": [
    "final_predictions.to_csv('final_preds.csv')"
   ]
  },
  {
   "cell_type": "code",
   "execution_count": null,
   "id": "1635669d",
   "metadata": {},
   "outputs": [],
   "source": []
  }
 ],
 "metadata": {
  "kernelspec": {
   "display_name": "Python 3 (ipykernel)",
   "language": "python",
   "name": "python3"
  },
  "language_info": {
   "codemirror_mode": {
    "name": "ipython",
    "version": 3
   },
   "file_extension": ".py",
   "mimetype": "text/x-python",
   "name": "python",
   "nbconvert_exporter": "python",
   "pygments_lexer": "ipython3",
   "version": "3.11.4"
  }
 },
 "nbformat": 4,
 "nbformat_minor": 5
}
